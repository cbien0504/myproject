{
 "cells": [
  {
   "cell_type": "code",
   "execution_count": 3,
   "metadata": {},
   "outputs": [],
   "source": [
    "import sys\n",
    "sys.path.append('/mnt/d/hust/code/thesis')\n",
    "from spark_processing.pipeline.create_table_from_schema import create_table_from_schema\n",
    "from pyspark.sql import SparkSession\n",
    "from delta import *\n",
    "builder = SparkSession.builder \\\n",
    "    .config(\"spark.sql.extensions\", \"io.delta.sql.DeltaSparkSessionExtension\") \\\n",
    "    .config(\"spark.sql.catalog.spark_catalog\", \"org.apache.spark.sql.delta.catalog.DeltaCatalog\")\n",
    "spark = configure_spark_with_delta_pip(builder).getOrCreate()\n"
   ]
  },
  {
   "cell_type": "code",
   "execution_count": null,
   "metadata": {},
   "outputs": [
    {
     "name": "stderr",
     "output_type": "stream",
     "text": [
      "25/03/06 11:24:07 WARN SparkStringUtils: Truncated the string representation of a plan since it was too large. This behavior can be adjusted by setting 'spark.sql.debug.maxToStringFields'.\n",
      "                                                                                \r"
     ]
    },
    {
     "name": "stdout",
     "output_type": "stream",
     "text": [
      "+--------------------+--------------------+--------------------+--------------------+----------+--------------------+---------+------------+-------------+-------------------+-------------------+----------------+---------+-----------+------+------------------+-----------+------------------+-----------+------------------+-------------------+------------+-------------+\n",
      "|          product_id|        product_name|            category|                 url|     brand|         description|    price|price_origin|price_present|         crawled_at|         updated_at|discount_percent| discount|is_sale_off|source|review_author_name|review_date|review_description|review_body|review_best_rating|review_rating_value|review_image|reviews_count|\n",
      "+--------------------+--------------------+--------------------+--------------------+----------+--------------------+---------+------------+-------------+-------------------+-------------------+----------------+---------+-----------+------+------------------+-----------+------------------+-----------+------------------+-------------------+------------+-------------+\n",
      "|usb-wifi-chuan-wi...|USB Wifi Chuẩn Wi...|       thiet-bi-mang|https://www.thegi...|[TOTOLINK]|USB Wifi Chuẩn Wi...| 210000.0|    330000.0|     210000.0|2025-03-05 19:47:38|2025-03-06 04:21:58|           36.36| 120000.0|       true|  tgdd|                []|         []|                []|         []|                []|                 []|          []|            0|\n",
      "|samsung-galaxy-a5...|Điện thoại Samsun...|                dtdd|https://www.thegi...| [SAMSUNG]|Điện thoại Samsun...|9990000.0|   9990000.0|    9990000.0|2025-03-05 19:47:38|2025-03-06 04:21:58|            0.00|      0.0|      false|  tgdd|                []|         []|                []|         []|                []|                 []|          []|            0|\n",
      "|samsung-galaxy-a3...|Điện thoại Samsun...|                dtdd|https://www.thegi...| [SAMSUNG]|Điện thoại Samsun...|8290000.0|   8290000.0|    8290000.0|2025-03-05 19:47:39|2025-03-06 04:21:58|            0.00|      0.0|      false|  tgdd|                []|         []|                []|         []|                []|                 []|          []|            0|\n",
      "|tai-nghe-bluetoot...|Tai nghe Bluetoot...|            tai-nghe|https://www.thegi...|    [OPPO]|Tai nghe Bluetoot...| 990000.0|    990000.0|     990000.0|2025-03-05 19:47:39|2025-03-06 04:21:58|            0.00|      0.0|      false|  tgdd|                []|         []|                []|         []|                []|                 []|          []|            0|\n",
      "|samsung-galaxy-a3...|Điện thoại Samsun...|                dtdd|https://www.thegi...| [SAMSUNG]|Điện thoại Samsun...|9290000.0|   9290000.0|    9290000.0|2025-03-05 19:47:39|2025-03-06 04:21:58|            0.00|      0.0|      false|  tgdd|                []|         []|                []|         []|                []|                 []|          []|            0|\n",
      "|samsung-galaxy-a5...|Điện thoại Samsun...|                dtdd|https://www.thegi...| [SAMSUNG]|Điện thoại Samsun...|  1.099E7|     1.099E7|      1.099E7|2025-03-05 19:47:39|2025-03-06 04:21:58|            0.00|      0.0|      false|  tgdd|                []|         []|                []|         []|                []|                 []|          []|            0|\n",
      "|camera-ip-ngoai-t...|Camera IP Ngoài t...|     camera-giam-sat|https://www.thegi...| [TP-LINK]|Camera giám sát C...|1190000.0|   1190000.0|    1190000.0|2025-03-05 19:47:39|2025-03-06 04:21:58|            0.00|      0.0|      false|  tgdd|                []|         []|                []|         []|                []|                 []|          []|            0|\n",
      "|camera-ip-ngoai-t...|Camera IP Ngoài t...|     camera-giam-sat|https://www.thegi...| [TP-LINK]|Camera giám sát C...| 940000.0|    940000.0|     940000.0|2025-03-05 19:47:39|2025-03-06 04:21:58|            0.00|      0.0|      false|  tgdd|                []|         []|                []|         []|                []|                 []|          []|            0|\n",
      "|msi-stealth-18-hx...|Laptop MSI Stealt...|              laptop|https://www.thegi...|     [MSI]|Laptop MSI Stealt...|  9.999E7|     9.999E7|      9.999E7|2025-03-05 19:47:39|2025-03-06 04:21:58|            0.00|      0.0|      false|  tgdd|                []|         []|                []|         []|                []|                 []|          []|            0|\n",
      "|msi-raider-18-hx-...|Laptop MSI Raider...|              laptop|https://www.thegi...|     [MSI]|Laptop MSI Raider...| 1.2999E8|    1.2999E8|     1.2999E8|2025-03-05 19:47:40|2025-03-06 04:21:58|            0.00|      0.0|      false|  tgdd|                []|         []|                []|         []|                []|                 []|          []|            0|\n",
      "|bao-da-nap-gap-ip...|Bao da nắp gập iP...|op-lung-may-tinh-...|https://www.thegi...|     [ESR]|Bao da nắp gập iP...| 711000.0|    790000.0|     711000.0|2025-03-05 19:47:40|2025-03-06 04:21:58|           10.00|  79000.0|       true|  tgdd|                []|         []|                []|         []|                []|                 []|          []|            0|\n",
      "|citizen-eq0610-53...|Đồng hồ Citizen 2...|     dong-ho-deo-tay|https://www.thegi...| [CITIZEN]|Đồng hồ Citizen E...|2931000.0|   4885000.0|    2931000.0|2025-03-05 19:47:40|2025-03-06 04:21:58|           40.00|1954000.0|       true|  tgdd|                []|         []|                []|         []|                []|                 []|          []|            0|\n",
      "|citizen-fe1244-72...|Đồng hồ Citizen 3...|     dong-ho-deo-tay|https://www.thegi...| [CITIZEN]|Đồng hồ Citizen F...|4251000.0|   7085000.0|    4251000.0|2025-03-05 19:47:40|2025-03-06 04:21:58|           40.00|2834000.0|       true|  tgdd|                []|         []|                []|         []|                []|                 []|          []|            0|\n",
      "|citizen-fe1241-71...|Đồng hồ Citizen 3...|     dong-ho-deo-tay|https://www.thegi...| [CITIZEN]|Đồng hồ Citizen F...|3651000.0|   6085000.0|    3651000.0|2025-03-05 19:47:40|2025-03-06 04:21:58|           40.00|2434000.0|       true|  tgdd|                []|         []|                []|         []|                []|                 []|          []|            0|\n",
      "|citizen-eq0614-52...|Đồng hồ Citizen 2...|     dong-ho-deo-tay|https://www.thegi...| [CITIZEN]|Đồng hồ Citizen E...|3231000.0|   5385000.0|    3231000.0|2025-03-05 19:47:41|2025-03-06 04:21:58|           40.00|2154000.0|       true|  tgdd|                []|         []|                []|         []|                []|                 []|          []|            0|\n",
      "|citizen-bi1031-51...|Đồng hồ Citizen 4...|     dong-ho-deo-tay|https://www.thegi...| [CITIZEN]|Đồng hồ Citizen B...|2838000.0|   3785000.0|    2838000.0|2025-03-05 19:47:41|2025-03-06 04:21:58|           25.02| 947000.0|       true|  tgdd|                []|         []|                []|         []|                []|                 []|          []|            0|\n",
      "|citizen-bf2026-89...|Đồng hồ Citizen 4...|     dong-ho-deo-tay|https://www.thegi...| [CITIZEN]|Đồng hồ Citizen B...|4038000.0|   5385000.0|    4038000.0|2025-03-05 19:47:41|2025-03-06 04:21:58|           25.01|1347000.0|       true|  tgdd|                []|         []|                []|         []|                []|                 []|          []|            0|\n",
      "|citizen-bf2021-82...|Đồng hồ Citizen 4...|     dong-ho-deo-tay|https://www.thegi...| [CITIZEN]|Đồng hồ Citizen B...|3663000.0|   4885000.0|    3663000.0|2025-03-05 19:47:42|2025-03-06 04:21:58|           25.02|1222000.0|       true|  tgdd|                []|         []|                []|         []|                []|                 []|          []|            0|\n",
      "|citizen-bf2021-82...|Đồng hồ Citizen 4...|     dong-ho-deo-tay|https://www.thegi...| [CITIZEN]|Đồng hồ Citizen B...|3663000.0|   4885000.0|    3663000.0|2025-03-05 19:47:42|2025-03-06 04:21:58|           25.02|1222000.0|       true|  tgdd|                []|         []|                []|         []|                []|                 []|          []|            0|\n",
      "|citizen-bf0583-59...|Đồng hồ Citizen 3...|     dong-ho-deo-tay|https://www.thegi...| [CITIZEN]|Đồng hồ Citizen B...|4188000.0|   5585000.0|    4188000.0|2025-03-05 19:47:42|2025-03-06 04:21:58|           25.01|1397000.0|       true|  tgdd|                []|         []|                []|         []|                []|                 []|          []|            0|\n",
      "+--------------------+--------------------+--------------------+--------------------+----------+--------------------+---------+------------+-------------+-------------------+-------------------+----------------+---------+-----------+------+------------------+-----------+------------------+-----------+------------------+-------------------+------------+-------------+\n",
      "only showing top 20 rows\n",
      "\n",
      "120\n"
     ]
    },
    {
     "ename": "",
     "evalue": "",
     "output_type": "error",
     "traceback": [
      "\u001b[1;31mThe Kernel crashed while executing code in the current cell or a previous cell. \n",
      "\u001b[1;31mPlease review the code in the cell(s) to identify a possible cause of the failure. \n",
      "\u001b[1;31mClick <a href='https://aka.ms/vscodeJupyterKernelCrash'>here</a> for more info. \n",
      "\u001b[1;31mView Jupyter <a href='command:jupyter.viewOutput'>log</a> for further details."
     ]
    }
   ],
   "source": [
    "df = spark.read.format(\"delta\").load('/mnt/d/hust/code/thesis/warehouse/common_normalized/tgdd')\n",
    "df.show()\n",
    "print(df.count())"
   ]
  }
 ],
 "metadata": {
  "kernelspec": {
   "display_name": "Python 3",
   "language": "python",
   "name": "python3"
  },
  "language_info": {
   "codemirror_mode": {
    "name": "ipython",
    "version": 3
   },
   "file_extension": ".py",
   "mimetype": "text/x-python",
   "name": "python",
   "nbconvert_exporter": "python",
   "pygments_lexer": "ipython3",
   "version": "3.9.20"
  }
 },
 "nbformat": 4,
 "nbformat_minor": 2
}
